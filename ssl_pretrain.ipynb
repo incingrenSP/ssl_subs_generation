{
 "cells": [
  {
   "cell_type": "code",
   "execution_count": 1,
   "id": "3ba53004-d8fb-4113-b27a-3b0133d2587d",
   "metadata": {},
   "outputs": [],
   "source": [
    "from src.requirements import *\n",
    "from src.audio_handler import *"
   ]
  },
  {
   "cell_type": "code",
   "execution_count": 2,
   "id": "4d88ffa1-42db-491e-9958-4a016526027d",
   "metadata": {},
   "outputs": [
    {
     "data": {
      "text/plain": [
       "True"
      ]
     },
     "execution_count": 2,
     "metadata": {},
     "output_type": "execute_result"
    }
   ],
   "source": [
    "torch.cuda.is_available()"
   ]
  },
  {
   "cell_type": "code",
   "execution_count": 3,
   "id": "15889389-3f77-47e3-b627-039124596b00",
   "metadata": {},
   "outputs": [],
   "source": [
    "def compute_mask_indices(B, T, mask_prob, mask_length, device=\"cpu\"):\n",
    "\n",
    "    mask = torch.zeros(B, T, dtype=torch.bool, device=device)\n",
    "\n",
    "    num_masked_spans = int((T * mask_prob) / mask_length)\n",
    "    for b in range(B):\n",
    "        starts = torch.randint(0, T - mask_length, (num_masked_spans,))\n",
    "        for s in starts:\n",
    "            mask[b, s : s + mask_length] = True\n",
    "    return mask"
   ]
  },
  {
   "cell_type": "markdown",
   "id": "71cf987d-2419-4274-92de-2df37d04bf1f",
   "metadata": {},
   "source": [
    "## SSL Pipeline\n",
    "- Feature Encoder with 1-channel input (mono audio)\n",
    "- Autoregressive Context NN using Gated Recurrent Network (GRU) (might remove this)\n",
    "- Contrastive Predictor (what dimensions i get and what i actually need to get)\n",
    "- SSL Autoregressive model: encoder -> context -> predictor -> z, q, masked_indices (z = only predicted masked output, q = predicted values, masked_indices = indices that were masked in the original which was then predicted by the model)"
   ]
  },
  {
   "cell_type": "code",
   "execution_count": 4,
   "id": "f5b9c7a3-5b2d-44ef-9195-4ca26a7e0174",
   "metadata": {},
   "outputs": [],
   "source": [
    "# Feature Encoder (SSL)\n",
    "class FeatureEncoder(nn.Module):\n",
    "    def __init__(self, in_channels=1, hidden_dim=128):\n",
    "        super().__init__()\n",
    "        self.encoder = nn.Sequential(\n",
    "            nn.Conv1d(in_channels, hidden_dim, kernel_size=7, stride=5, padding=3),\n",
    "            nn.ReLU(),\n",
    "            nn.Conv1d(hidden_dim, hidden_dim, kernel_size=5, stride=4, padding=2),\n",
    "            nn.ReLU()\n",
    "        )\n",
    "        \n",
    "    def forward(self, x):\n",
    "        return self.encoder(x)\n",
    "\n",
    "# Context Network (RNN)\n",
    "class AutoregressiveContext(nn.Module):\n",
    "    def __init__(self, input_dim, hidden_dim):\n",
    "        super().__init__()\n",
    "        self.gru = nn.GRU(input_dim, hidden_dim, batch_first=True)\n",
    "\n",
    "    def forward(self, z):\n",
    "        # natural autoregressive context representation\n",
    "        output, _ = self.gru(z)\n",
    "        return output\n",
    "\n",
    "# Contrastive Head\n",
    "class ContrastivePredictor(nn.Module):\n",
    "    def __init__(self, hidden_dim, proj_dim):\n",
    "        super().__init__()\n",
    "        self.project = nn.Linear(hidden_dim, proj_dim)\n",
    "\n",
    "    def forward(self, x):\n",
    "        return self.project(x)\n",
    "\n",
    "# Full SSL Encoder Model\n",
    "class SSLAutoregressiveModel(nn.Module):\n",
    "    def __init__(self, feat_dim=128, proj_dim=128):\n",
    "        super().__init__()\n",
    "        self.encoder = FeatureEncoder()\n",
    "        self.context = AutoregressiveContext(feat_dim, feat_dim)\n",
    "        self.predictor = ContrastivePredictor(feat_dim, proj_dim)\n",
    "        self.target_proj = nn.Linear(feat_dim, proj_dim)\n",
    "\n",
    "    def forward(self, x, mask=None, mask_prob=0.065, mask_length=10):\n",
    "        # z -> true latent features\n",
    "\n",
    "        z = self.encoder(x)\n",
    "            \n",
    "        z = z.transpose(1, 2)\n",
    "        B, T, F = z.shape\n",
    "\n",
    "        # masking\n",
    "        z_masked = z.clone()\n",
    "        \n",
    "        if mask is None:\n",
    "            mask = compute_mask_indices(B, T, mask_prob, mask_length, device=z.device)\n",
    "        \n",
    "        # z_masked[torch.arange(z.size(0)).unsqueeze(1), mask_indices] = 0\n",
    "        z_masked[mask.unsqueeze(-1).expand_as(z_masked)] = 0\n",
    "\n",
    "        # c -> context\n",
    "        c = self.context(z_masked)\n",
    "        \n",
    "        # q -> predicted queries\n",
    "        q = self.predictor(c)\n",
    "\n",
    "        # projection\n",
    "        z_proj = self.target_proj(z)\n",
    "\n",
    "        return z_proj, q, mask"
   ]
  },
  {
   "cell_type": "markdown",
   "id": "9e1200ed-00f5-488d-b689-cb03c6d90d42",
   "metadata": {},
   "source": [
    "## Contrastive loss\n",
    "$$ L_{SSL} = \\sum_i -log \\frac{exp(sin(\\hat z_i, z_i^+)/\\tau)}{\\sum_j exp(sin(\\hat z_i, z_j^-)/\\tau)} $$"
   ]
  },
  {
   "cell_type": "markdown",
   "id": "6ff8b5a7-34c8-427d-961c-5a881c84be63",
   "metadata": {},
   "source": [
    "- B = Batch size\n",
    "- T = Temporal Length\n",
    "- D = Feature dimension\n",
    "\n",
    "## latent_features (z)\n",
    "- Latent features are unique representations of an audio sample in N-dimension (here 512-dimensional vector).\n",
    "- for \"namaskar\" with each letter representing one vector pos z = [z1, z2, z3, z4, z5, z6, z7, z8]\n",
    "- say we have masked_indices of shape = (8, 1) given as mask_indices = [1, 1, 0, 0, 1, 0, 1, 1]\n",
    "- so z_masked = [z1, z2, 0, 0, z5, 0, z7, z8]\n",
    "\n",
    "## context (c)\n",
    "- we now have a masked input which has some missing values. now the model needs to understand the context through z_masked.\n",
    "- context (c) is programmed to understand what z_masked is saying so far.\n",
    "- c tries to understand and contextualize \"na--k-ar\"\n",
    "\n",
    "## predicted queries (q)\n",
    "- we now have latent_features and context of masked_latent_features, now the model needs to predict based on context\n",
    "- the model tries to predict queries (q) to fill the masked indices, say we got q = \"--ma-k--\"\n",
    "\n",
    "## contrastive loss ($L_{SSL}$)\n",
    "- we already have latent_features which is the tokenized audio sample, and now predicted queries.\n",
    "\n",
    "$\\hat z_i$ = q = predicted masked representations <br>\n",
    "$z_i^+$ = not z_masked = whatever values/tokens were masked <br>\n",
    "$z_i^-$ = negative samples = we are intended to give the model multiple wrong choices so that it learns to pick the most appropriate one (there are no correct answers) <br>\n",
    "but, these features (instead of manual intervention) are fed to the formula using a random masked values from $z_k$ as a negative sample"
   ]
  },
  {
   "cell_type": "code",
   "execution_count": 5,
   "id": "ff2aa1e2-ffd6-4b64-82bb-d30389abfc0b",
   "metadata": {},
   "outputs": [],
   "source": [
    "# vectorization\n",
    "def contrastive_loss(z, q, mask=None, temperature=0.1):\n",
    "    \"\"\"\n",
    "    z: latent features\n",
    "    q: predicted queries\n",
    "    mask: hidden features\n",
    "    \"\"\"\n",
    "    z = F.normalize(z, dim=-1)\n",
    "    q = F.normalize(q, dim=-1)\n",
    "\n",
    "    z_cpu = z.detach().cpu()\n",
    "    q_cpu = q.detach().cpu()\n",
    "\n",
    "    # batch matrxi-matrix product\n",
    "    sim_cpu = torch.bmm(q_cpu, z_cpu.transpose(1,2)) / temperature\n",
    "    sim = sim_cpu.to(z.device, non_blocking=True)\n",
    "\n",
    "    sim_pos = sim.diagonal(dim1=1, dim2=2)\n",
    "\n",
    "    logsum_exp = torch.logsumexp(sim, dim=-1)\n",
    "    loss = - (sim_pos - logsum_exp)\n",
    "\n",
    "    if mask is not None:\n",
    "        loss = loss * mask.float()\n",
    "\n",
    "    return loss.mean()"
   ]
  },
  {
   "cell_type": "code",
   "execution_count": 6,
   "id": "2a0148b7-a20b-486a-9b35-3c0bf2a69604",
   "metadata": {},
   "outputs": [],
   "source": [
    "def contrastive_loss_chunked(z, q, mask=None, temperature=0.1, chunk_size=256):\n",
    "    \"\"\"\n",
    "        z: [B, T, D] target latent features\n",
    "        q: [B, T, D] predicted query features\n",
    "        mask: optional [B, T] mask\n",
    "        temperature: softmax temperature\n",
    "        chunk_size: number of timesteps to process per chunk\n",
    "    \"\"\"\n",
    "    B, T, D = z.shape\n",
    "    z = F.normalize(z, dim=-1)\n",
    "    q = F.normalize(q, dim=-1)\n",
    "\n",
    "    total_loss = 0.0\n",
    "    total_count = 0\n",
    "\n",
    "    for start in range(0, T, chunk_size):\n",
    "        end = min(start + chunk_size, T)\n",
    "        q_chunk = q[:, start:end, :]  # [B, chunk, D]\n",
    "\n",
    "        # Compute similarity only for this chunk\n",
    "        sim = torch.bmm(q_chunk, z.transpose(1, 2)) / temperature  # [B, chunk, T]\n",
    "        sim_pos = torch.sum(q_chunk * z[:, start:end, :], dim=-1) / temperature  # [B, chunk]\n",
    "        logsum_exp = torch.logsumexp(sim, dim=-1)  # [B, chunk]\n",
    "        loss_chunk = -(sim_pos - logsum_exp)  # [B, chunk]\n",
    "\n",
    "        if mask is not None:\n",
    "            loss_chunk = loss_chunk * mask[:, start:end].float()\n",
    "\n",
    "        total_loss += loss_chunk.sum()\n",
    "        total_count += loss_chunk.numel()\n",
    "\n",
    "        # optional: free intermediate tensor memory early\n",
    "        del q_chunk, sim, sim_pos, logsum_exp, loss_chunk\n",
    "        torch.cuda.empty_cache()\n",
    "\n",
    "    return total_loss / total_count"
   ]
  },
  {
   "cell_type": "code",
   "execution_count": 7,
   "id": "23ca34cb-1c78-4c4b-a73c-b7a1cd3dd1a5",
   "metadata": {},
   "outputs": [
    {
     "name": "stderr",
     "output_type": "stream",
     "text": [
      "100%|████████████████████████████████████████████████████████████████████████████| 607/607 [00:00<00:00, 288721.09it/s]\n",
      "100%|████████████████████████████████████████████████████████████████████████████| 642/642 [00:00<00:00, 287256.58it/s]\n",
      "100%|████████████████████████████████████████████████████████████████████████████| 593/593 [00:00<00:00, 595029.25it/s]\n",
      "100%|████████████████████████████████████████████████████████████████████████████| 652/652 [00:00<00:00, 550681.88it/s]\n",
      "100%|████████████████████████████████████████████████████████████████████████████| 614/614 [00:00<00:00, 276765.47it/s]\n",
      "100%|████████████████████████████████████████████████████████████████████████████| 625/625 [00:00<00:00, 257458.26it/s]\n",
      "100%|████████████████████████████████████████████████████████████████████████████| 599/599 [00:00<00:00, 265636.30it/s]\n",
      "100%|████████████████████████████████████████████████████████████████████████████| 624/624 [00:00<00:00, 312320.49it/s]\n",
      "100%|████████████████████████████████████████████████████████████████████████████| 640/640 [00:00<00:00, 213790.58it/s]\n",
      "100%|████████████████████████████████████████████████████████████████████████████| 623/623 [00:00<00:00, 312453.83it/s]\n",
      "100%|████████████████████████████████████████████████████████████████████████████| 621/621 [00:00<00:00, 311413.53it/s]\n",
      "100%|████████████████████████████████████████████████████████████████████████████| 615/615 [00:00<00:00, 307705.71it/s]\n",
      "100%|████████████████████████████████████████████████████████████████████████████| 613/613 [00:00<00:00, 307144.71it/s]\n",
      "100%|████████████████████████████████████████████████████████████████████████████| 606/606 [00:00<00:00, 303855.14it/s]\n",
      "100%|████████████████████████████████████████████████████████████████████████████| 643/643 [00:00<00:00, 162858.54it/s]\n",
      "100%|████████████████████████████████████████████████████████████████████████████| 618/618 [00:00<00:00, 180935.35it/s]\n"
     ]
    }
   ],
   "source": [
    "path = os.path.join('data')\n",
    "batch_size = 2\n",
    "\n",
    "# target sampling rate is defaulted at 16kHz so manually defining 16000 is not necessary\n",
    "# this parameter is added in case we decide to change to working sampling rate to less than or greater than 16kHz\n",
    "\n",
    "train_dataset = AudioDataset(audio_path=path)\n",
    "train_dl = DataLoader(\n",
    "    dataset = train_dataset,\n",
    "    batch_size = batch_size,\n",
    "    pin_memory = True,\n",
    "    collate_fn = collate_padding, \n",
    "    shuffle=True\n",
    ")"
   ]
  },
  {
   "cell_type": "code",
   "execution_count": 8,
   "id": "6c09d7d1-7ef1-4269-b990-f23b53afd8fc",
   "metadata": {},
   "outputs": [
    {
     "data": {
      "text/plain": [
       "SSLAutoregressiveModel(\n",
       "  (encoder): FeatureEncoder(\n",
       "    (encoder): Sequential(\n",
       "      (0): Conv1d(1, 128, kernel_size=(7,), stride=(5,), padding=(3,))\n",
       "      (1): ReLU()\n",
       "      (2): Conv1d(128, 128, kernel_size=(5,), stride=(4,), padding=(2,))\n",
       "      (3): ReLU()\n",
       "    )\n",
       "  )\n",
       "  (context): AutoregressiveContext(\n",
       "    (gru): GRU(128, 128, batch_first=True)\n",
       "  )\n",
       "  (predictor): ContrastivePredictor(\n",
       "    (project): Linear(in_features=128, out_features=128, bias=True)\n",
       "  )\n",
       "  (target_proj): Linear(in_features=128, out_features=128, bias=True)\n",
       ")"
      ]
     },
     "execution_count": 8,
     "metadata": {},
     "output_type": "execute_result"
    }
   ],
   "source": [
    "learning_rate = 1e-4\n",
    "device = 'cuda' if torch.cuda.is_available() else 'cpu'\n",
    "\n",
    "model = SSLAutoregressiveModel()\n",
    "optimizer = torch.optim.Adam(model.parameters(), lr=learning_rate)\n",
    "\n",
    "model = model.to(device)\n",
    "model"
   ]
  },
  {
   "cell_type": "code",
   "execution_count": 9,
   "id": "ac5c949b-518e-4b13-af3b-11e0c5da2e07",
   "metadata": {},
   "outputs": [],
   "source": [
    "def dummy_test():\n",
    "    # Testing if model is working\n",
    "    model.eval()\n",
    "    \n",
    "    batch_size = 16\n",
    "    seq_len = 16000\n",
    "    \n",
    "    dummy_input = torch.randn(batch_size, 1, seq_len).to(device)\n",
    "    z = model.encoder(dummy_input).transpose(1, 2)\n",
    "    B, T_enc, F = z.shape\n",
    "    \n",
    "    mask = compute_mask_indices(B, T_enc, mask_prob=0.065, mask_length=10, device=device)\n",
    "    z_out, q_out, mask_out = model(dummy_input)\n",
    "    \n",
    "    print(\"z_out:\", z_out.shape)\n",
    "    print(\"q_out:\", q_out.shape)"
   ]
  },
  {
   "cell_type": "code",
   "execution_count": 10,
   "id": "267a7354-68b8-423f-801b-e37a4b1a6af2",
   "metadata": {},
   "outputs": [],
   "source": [
    "def train(model, train_dl, loss_fn, epochs, optimizer, scaler, name, device):\n",
    "    \n",
    "    accum = 32\n",
    "    model.train()\n",
    "\n",
    "    for i, batch in enumerate(tqdm(train_dl)):\n",
    "        batch = batch.to(device)\n",
    "        with torch.autocast(device):\n",
    "            z, q, mask = model(batch)\n",
    "            loss = loss_fn(z, q, mask, chunk_size=128) / accum\n",
    "        scaler.scale(loss).backward()\n",
    "\n",
    "        if (i+1) % accum == 0:\n",
    "            scaler.step(optimizer)\n",
    "            scaler.update()\n",
    "            optimizer.zero_grad()\n"
   ]
  },
  {
   "cell_type": "code",
   "execution_count": 11,
   "id": "c0fa022e-ee71-41b9-bbe9-c7c2c2ffb655",
   "metadata": {},
   "outputs": [
    {
     "name": "stderr",
     "output_type": "stream",
     "text": [
      "100%|██████████████████████████████████████████████████████████████████████████████| 4968/4968 [10:12<00:00,  8.12it/s]\n"
     ]
    }
   ],
   "source": [
    "name = \"ssl_encoder\"\n",
    "epochs = 5\n",
    "scaler = torch.GradScaler(device)\n",
    "\n",
    "train(model, train_dl, contrastive_loss_chunked, epochs, optimizer, scaler, name, device)"
   ]
  },
  {
   "cell_type": "code",
   "execution_count": null,
   "id": "57842287-1538-4637-9f50-0b8ae9bf07af",
   "metadata": {},
   "outputs": [],
   "source": []
  }
 ],
 "metadata": {
  "kernelspec": {
   "display_name": "ml",
   "language": "python",
   "name": "ml"
  },
  "language_info": {
   "codemirror_mode": {
    "name": "ipython",
    "version": 3
   },
   "file_extension": ".py",
   "mimetype": "text/x-python",
   "name": "python",
   "nbconvert_exporter": "python",
   "pygments_lexer": "ipython3",
   "version": "3.12.7"
  }
 },
 "nbformat": 4,
 "nbformat_minor": 5
}
