{
 "cells": [
  {
   "cell_type": "code",
   "execution_count": null,
   "id": "3ba53004-d8fb-4113-b27a-3b0133d2587d",
   "metadata": {},
   "outputs": [],
   "source": [
    "from src.requirements import *\n",
    "from src.audio_handler import *"
   ]
  },
  {
   "cell_type": "code",
   "execution_count": null,
   "id": "d96ee330-aedb-4037-99bf-6cd90ad994d9",
   "metadata": {},
   "outputs": [],
   "source": [
    "path = os.path.join('data')\n",
    "batch = 16\n",
    "\n",
    "# device parameter is not implemented yet\n",
    "# target sampling rate is defaulted at 16kHz so manually defining 16000 is not necessary\n",
    "# this parameter is added in case we decide to change to working sampling rate to less than or greater than 16kHz\n",
    "\n",
    "train_dataset = AudioDataset(audio_path=path, device='gpu', target_sr=16000)"
   ]
  },
  {
   "cell_type": "code",
   "execution_count": null,
   "id": "9e873d61-2a08-4894-b98c-b555743ad6b0",
   "metadata": {},
   "outputs": [],
   "source": [
    "train_dl = DataLoader(dataset=train_dataset, batch_size=batch, shuffle=True)"
   ]
  },
  {
   "cell_type": "markdown",
   "id": "71cf987d-2419-4274-92de-2df37d04bf1f",
   "metadata": {},
   "source": [
    "## SSL Pipeline\n",
    "- Feature Encoder with 1-channel input (mono audio)\n",
    "- Autoregressive Context NN using Gated Recurrent Network (GRU) (might remove this)\n",
    "- Contrastive Predictor (what dimensions i get and what i actually need to get)\n",
    "- SSL Autoregressive model: encoder -> context -> predictor -> z, q, masked_indices (z = only predicted masked output, q = predicted values, masked_indices = indices that were masked in the original which was then predicted by the model)\n",
    "- Contrastive Loss: based on formula"
   ]
  },
  {
   "cell_type": "code",
   "execution_count": null,
   "id": "f5b9c7a3-5b2d-44ef-9195-4ca26a7e0174",
   "metadata": {},
   "outputs": [],
   "source": [
    "# Feature Encoder (SSL)\n",
    "class FeatureEncoder(nn.Module):\n",
    "    def __init__(self, in_channels=1, hidden_dim=512):\n",
    "        super().__init__()\n",
    "        self.encoder = nn.Sequential(\n",
    "            nn.Conv1d(in_channels, hidden_dim, kernel_size=10, stride=5, padding=3),\n",
    "            nn.ReLU(),\n",
    "            nn.Conv1d(hidden_dim, hidden_dim, kernel_size=8, stride=4, padding=2),\n",
    "            nn.ReLU()\n",
    "        )\n",
    "\n",
    "    def forward(self, x):\n",
    "        return self.encoder(x)\n",
    "\n",
    "# Context Network (Transformer or RNN)\n",
    "class AutoregressiveContext(nn.Module):\n",
    "    def __init__(self, input_dim, hidden_dim):\n",
    "        super().__init__()\n",
    "        self.gru = nn.GRU(input_dim, hidden_dim, batch_first=True)\n",
    "\n",
    "    def forward(self, z):\n",
    "        output, _ = self.gru(z)\n",
    "        return output  # autoregressive context representation\n",
    "\n",
    "# Contrastive Head\n",
    "class ContrastivePredictor(nn.Module):\n",
    "    def __init__(self, hidden_dim, proj_dim):\n",
    "        super().__init__()\n",
    "        self.project = nn.Linear(hidden_dim, proj_dim)\n",
    "\n",
    "    def forward(self, x):\n",
    "        return self.project(x)\n",
    "\n",
    "# Full SSL Encoder Model\n",
    "class SSLAutoregressiveModel(nn.Module):\n",
    "    def __init__(self, feat_dim=512, proj_dim=256):\n",
    "        super().__init__()\n",
    "        self.encoder = FeatureEncoder()\n",
    "        self.context = AutoregressiveContext(feat_dim, feat_dim)\n",
    "        self.predictor = ContrastivePredictor(feat_dim, proj_dim)\n",
    "\n",
    "    def forward(self, x, mask_indices):\n",
    "        z = self.encoder(x).transpose(1, 2)  # [B, T, F]\n",
    "        z_masked = z.clone()\n",
    "\n",
    "        # Apply masking\n",
    "        z_masked[torch.arange(z.size(0)).unsqueeze(1), mask_indices] = 0\n",
    "\n",
    "        c = self.context(z_masked)\n",
    "        q = self.predictor(c)  # queries\n",
    "\n",
    "        return z, q, mask_indices"
   ]
  },
  {
   "cell_type": "code",
   "execution_count": null,
   "id": "ff2aa1e2-ffd6-4b64-82bb-d30389abfc0b",
   "metadata": {},
   "outputs": [],
   "source": [
    "# Contrastive Loss Function\n",
    "def contrastive_loss(z, q, mask_indices, temperature=0.1):\n",
    "    B, T, D = q.shape\n",
    "    loss = 0\n",
    "    count = 0\n",
    "    for b in range(B):\n",
    "        for t in mask_indices[b]:\n",
    "            positive = z[b, t]  # original latent\n",
    "            query = q[b, t]\n",
    "            sim_pos = F.cosine_similarity(query, positive, dim=0)\n",
    "            sim_all = F.cosine_similarity(query.unsqueeze(0), z[b], dim=1)\n",
    "            numerator = torch.exp(sim_pos / temperature)\n",
    "            denominator = torch.exp(sim_all / temperature).sum()\n",
    "            loss += -torch.log(numerator / denominator)\n",
    "            count += 1\n",
    "    return loss / count\n",
    "\n",
    "# Indices to mask is chosen at random with probability of current index being chosen as 6.5%\n",
    "def compute_mask_indices(B, T, mask_prob=0.065, mask_length=10):\n",
    "    mask = torch.zeros(B, T, dtype=torch.bool)\n",
    "\n",
    "    num_masked_spans = int((T * mask_prob) / mask_length)\n",
    "\n",
    "    for b in range(B):\n",
    "        span_starts = torch.randperm(T - mask_length)[:num_masked_spans]\n",
    "        for start in span_starts:\n",
    "            mask[b, start : start + mask_length] = True\n",
    "\n",
    "    return mask"
   ]
  },
  {
   "cell_type": "code",
   "execution_count": null,
   "id": "6c09d7d1-7ef1-4269-b990-f23b53afd8fc",
   "metadata": {},
   "outputs": [],
   "source": [
    "learning_rate = 1e-4\n",
    "device = 'cuda' if torch.cuda.is_available() else 'cpu'\n",
    "\n",
    "model = SSLAutoregressiveModel()\n",
    "optimizer = torch.optim.Adam(model.parameters(), lr=learning_rate)\n",
    "\n",
    "model = model.to(device)\n",
    "model"
   ]
  },
  {
   "cell_type": "code",
   "execution_count": null,
   "id": "ac5c949b-518e-4b13-af3b-11e0c5da2e07",
   "metadata": {},
   "outputs": [],
   "source": [
    "# Testing if model is working\n",
    "model.eval()\n",
    "dummy_input = torch.randn().to(device)\n",
    "outputs = model(dummy_input)\n",
    "print(\"Output shape: \", outputs.data)"
   ]
  },
  {
   "cell_type": "code",
   "execution_count": null,
   "id": "267a7354-68b8-423f-801b-e37a4b1a6af2",
   "metadata": {},
   "outputs": [],
   "source": [
    "for batch in train_loader:\n",
    "    masked_indices = generate_mask_indices(batch)\n",
    "\n",
    "    z, q, masked_indices = model(batch.unsqueeze(0), masked_indices)\n",
    "    loss = contrastive_loss(z, q, masked_indices)\n",
    "\n",
    "    optimizer.zero_grad()\n",
    "    loss.backward()\n",
    "    optimtizer.step()"
   ]
  },
  {
   "cell_type": "code",
   "execution_count": null,
   "id": "fa7190e2-1384-48a1-9e77-08098d10a8fc",
   "metadata": {},
   "outputs": [],
   "source": []
  }
 ],
 "metadata": {
  "kernelspec": {
   "display_name": "ml",
   "language": "python",
   "name": "ml"
  },
  "language_info": {
   "codemirror_mode": {
    "name": "ipython",
    "version": 3
   },
   "file_extension": ".py",
   "mimetype": "text/x-python",
   "name": "python",
   "nbconvert_exporter": "python",
   "pygments_lexer": "ipython3",
   "version": "3.12.11"
  }
 },
 "nbformat": 4,
 "nbformat_minor": 5
}
