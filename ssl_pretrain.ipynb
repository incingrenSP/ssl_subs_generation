{
 "cells": [
  {
   "cell_type": "code",
   "execution_count": 1,
   "id": "3ba53004-d8fb-4113-b27a-3b0133d2587d",
   "metadata": {},
   "outputs": [],
   "source": [
    "from src.requirements import *\n",
    "from src.audio_handler import *"
   ]
  },
  {
   "cell_type": "markdown",
   "id": "71cf987d-2419-4274-92de-2df37d04bf1f",
   "metadata": {},
   "source": [
    "## SSL Pipeline\n",
    "- Feature Encoder with 1-channel input (mono audio)\n",
    "- Autoregressive Context NN using Gated Recurrent Network (GRU) (might remove this)\n",
    "- Contrastive Predictor (what dimensions i get and what i actually need to get)\n",
    "- SSL Autoregressive model: encoder -> context -> predictor -> z, q, masked_indices (z = only predicted masked output, q = predicted values, masked_indices = indices that were masked in the original which was then predicted by the model)"
   ]
  },
  {
   "cell_type": "code",
   "execution_count": null,
   "id": "f5b9c7a3-5b2d-44ef-9195-4ca26a7e0174",
   "metadata": {},
   "outputs": [],
   "source": [
    "# Feature Encoder (SSL)\n",
    "class FeatureEncoder(nn.Module):\n",
    "    def __init__(self, in_channels=1, hidden_dim=512):\n",
    "        super().__init__()\n",
    "        self.encoder = nn.Sequential(\n",
    "            nn.Conv1d(in_channels, hidden_dim, kernel_size=10, stride=5, padding=3),\n",
    "            nn.ReLU(),\n",
    "            nn.Conv1d(hidden_dim, hidden_dim, kernel_size=8, stride=4, padding=2),\n",
    "            nn.ReLU()\n",
    "        )\n",
    "\n",
    "    def forward(self, x):\n",
    "        return self.encoder(x)\n",
    "\n",
    "# Context Network (RNN)\n",
    "class AutoregressiveContext(nn.Module):\n",
    "    def __init__(self, input_dim, hidden_dim):\n",
    "        super().__init__()\n",
    "        self.gru = nn.GRU(input_dim, hidden_dim, batch_first=True)\n",
    "\n",
    "    def forward(self, z):\n",
    "        # natural autoregressive context representation\n",
    "        output, _ = self.gru(z)\n",
    "        return output\n",
    "\n",
    "# Contrastive Head\n",
    "class ContrastivePredictor(nn.Module):\n",
    "    def __init__(self, hidden_dim, proj_dim):\n",
    "        super().__init__()\n",
    "        self.project = nn.Linear(hidden_dim, proj_dim)\n",
    "\n",
    "    def forward(self, x):\n",
    "        return self.project(x)\n",
    "\n",
    "# Full SSL Encoder Model\n",
    "class SSLAutoregressiveModel(nn.Module):\n",
    "    def __init__(self, feat_dim=512, proj_dim=256):\n",
    "        super().__init__()\n",
    "        self.encoder = FeatureEncoder()\n",
    "        self.context = AutoregressiveContext(feat_dim, feat_dim)\n",
    "        self.predictor = ContrastivePredictor(feat_dim, proj_dim)\n",
    "\n",
    "    def forward(self, x, mask_indices):\n",
    "        # z -> true latent features\n",
    "        z = self.encoder(x).transpose(1, 2)  # [B, T, F]\n",
    "        z_masked = z.clone()\n",
    "\n",
    "        # masking\n",
    "        z_masked[torch.arange(z.size(0)).unsqueeze(1), mask_indices] = 0\n",
    "\n",
    "        # c -> context\n",
    "        c = self.context(z_masked)\n",
    "        \n",
    "        # q -> predicted queries\n",
    "        q = self.predictor(c)\n",
    "\n",
    "        return z, q, mask_indices"
   ]
  },
  {
   "cell_type": "markdown",
   "id": "9e1200ed-00f5-488d-b689-cb03c6d90d42",
   "metadata": {},
   "source": [
    "## Contrastive loss\n",
    "$$ L_{SSL} = \\sum_i -log \\frac{exp(sin(\\hat z_i, z_i^+)/\\tau)}{\\sum_j exp(sin(\\hat z_i, z_j^-)/\\tau)} $$"
   ]
  },
  {
   "cell_type": "markdown",
   "id": "6ff8b5a7-34c8-427d-961c-5a881c84be63",
   "metadata": {},
   "source": [
    "- B = Batch size\n",
    "- T = Temporal Length\n",
    "- D = Feature dimension\n",
    "\n",
    "## latent_features (z)\n",
    "- Latent features are unique representations of an audio sample in N-dimension (here 512-dimensional vector).\n",
    "- for \"namaskar\" with each letter representing one vector pos z = [z1, z2, z3, z4, z5, z6, z7, z8]\n",
    "- say we have masked_indices of shape = (8, 1) given as mask_indices = [1, 1, 0, 0, 1, 0, 1, 1]\n",
    "- so z_masked = [z1, z2, 0, 0, z5, 0, z7, z8]\n",
    "\n",
    "## context (c)\n",
    "- we now have a masked input which has some missing values. now the model needs to understand the context through z_masked.\n",
    "- context (c) is programmed to understand what z_masked is saying so far.\n",
    "- c tries to understand and contextualize \"na--k-ar\"\n",
    "\n",
    "## predicted queries (q)\n",
    "- we now have latent_features and context of masked_latent_features, now the model needs to predict based on context\n",
    "- the model tries to predict queries (q) to fill the masked indices, say we got q = \"--ma-k--\"\n",
    "\n",
    "## contrastive loss ($L_{SSL}$)\n",
    "- we already have latent_features which is the tokenized audio sample, and now predicted queries.\n",
    "\n",
    "$\\hat z_i$ = q = predicted masked representations <br>\n",
    "$z_i^+$ = not z_masked = whatever values/tokens were masked <br>\n",
    "$z_i^-$ = negative samples = we are intended to give the model multiple wrong choices so that it learns to pick the most appropriate one (there are no correct answers) <br>\n",
    "but, these features (instead of manual intervention) are fed to the formula using a random masked values from $z_k$ as a negative sample"
   ]
  },
  {
   "cell_type": "code",
   "execution_count": null,
   "id": "ff2aa1e2-ffd6-4b64-82bb-d30389abfc0b",
   "metadata": {},
   "outputs": [],
   "source": [
    "# Contrastive Loss Function\n",
    "# contrastive_loss(latent_features (z), predicted_queries (q), masked_indices (mask_indices), temperature)\n",
    "# B = Batch size\n",
    "# T = Temporal Length\n",
    "# D = Feature dimension\n",
    "\n",
    "def contrastive_loss(latent_features, predicted_queries, mask_indices, temperature=0.1):\n",
    "    B, T, D = predicted_queries.shape\n",
    "    loss = 0\n",
    "    count = 0\n",
    "    for b in range(B):\n",
    "        for t in mask_indices[b]:\n",
    "            positive = latent_features[b, t]\n",
    "            query = predicted_queries[b, t]\n",
    "            sim_pos = F.cosine_similarity(query, positive, dim=0)\n",
    "            sim_all = F.cosine_similarity(query.unsqueeze(0), latent_features[b], dim=1)\n",
    "            numerator = torch.exp(sim_pos / temperature)\n",
    "            denominator = torch.exp(sim_all / temperature).sum()\n",
    "            loss += -torch.log(numerator / denominator)\n",
    "            count += 1\n",
    "    return loss / count\n",
    "\n",
    "# Indices to mask are chosen at random with probability of current index being chosen as 6.5%\n",
    "\n",
    "def compute_mask_indices(B, T, mask_prob=0.065, mask_length=10):\n",
    "    mask = torch.zeros(B, T, dtype=torch.bool)\n",
    "\n",
    "    num_masked_spans = int((T * mask_prob) / mask_length)\n",
    "\n",
    "    for b in range(B):\n",
    "        span_starts = torch.randperm(T - mask_length)[:num_masked_spans]\n",
    "        for start in span_starts:\n",
    "            mask[b, start : start + mask_length] = True\n",
    "\n",
    "    return mask"
   ]
  },
  {
   "cell_type": "code",
   "execution_count": null,
   "id": "23ca34cb-1c78-4c4b-a73c-b7a1cd3dd1a5",
   "metadata": {},
   "outputs": [],
   "source": [
    "path = os.path.join('data')\n",
    "batch = 16\n",
    "\n",
    "# device parameter is not implemented yet\n",
    "# target sampling rate is defaulted at 16kHz so manually defining 16000 is not necessary\n",
    "# this parameter is added in case we decide to change to working sampling rate to less than or greater than 16kHz\n",
    "\n",
    "train_dataset = AudioDataset(audio_path=path, device='gpu', target_sr=16000)"
   ]
  },
  {
   "cell_type": "code",
   "execution_count": null,
   "id": "9722a7a1-7d06-4712-9fad-757eccb47a1e",
   "metadata": {},
   "outputs": [],
   "source": [
    "train_dl = DataLoader(dataset=train_dataset, batch_size=batch, shuffle=True)"
   ]
  },
  {
   "cell_type": "code",
   "execution_count": null,
   "id": "6c09d7d1-7ef1-4269-b990-f23b53afd8fc",
   "metadata": {},
   "outputs": [],
   "source": [
    "learning_rate = 1e-4\n",
    "device = 'cuda' if torch.cuda.is_available() else 'cpu'\n",
    "\n",
    "model = SSLAutoregressiveModel()\n",
    "optimizer = torch.optim.Adam(model.parameters(), lr=learning_rate)\n",
    "\n",
    "model = model.to(device)\n",
    "model"
   ]
  },
  {
   "cell_type": "code",
   "execution_count": null,
   "id": "ac5c949b-518e-4b13-af3b-11e0c5da2e07",
   "metadata": {},
   "outputs": [],
   "source": [
    "# Testing if model is working\n",
    "model.eval()\n",
    "dummy_input = torch.randn().to(device)\n",
    "outputs = model(dummy_input)\n",
    "print(\"Output shape: \", outputs.data)"
   ]
  },
  {
   "cell_type": "code",
   "execution_count": null,
   "id": "267a7354-68b8-423f-801b-e37a4b1a6af2",
   "metadata": {},
   "outputs": [],
   "source": [
    "for batch in train_loader:\n",
    "    masked_indices = generate_mask_indices(batch)\n",
    "\n",
    "    latent_features, predicted_queries, masked_indices = model(batch.unsqueeze(0), masked_indices)\n",
    "    loss = contrastive_loss(latent_features, predicted_queries, masked_indices)\n",
    "\n",
    "    optimizer.zero_grad()\n",
    "    loss.backward()\n",
    "    optimtizer.step()"
   ]
  },
  {
   "cell_type": "code",
   "execution_count": null,
   "id": "fa7190e2-1384-48a1-9e77-08098d10a8fc",
   "metadata": {},
   "outputs": [],
   "source": []
  }
 ],
 "metadata": {
  "kernelspec": {
   "display_name": "ml",
   "language": "python",
   "name": "ml"
  },
  "language_info": {
   "codemirror_mode": {
    "name": "ipython",
    "version": 3
   },
   "file_extension": ".py",
   "mimetype": "text/x-python",
   "name": "python",
   "nbconvert_exporter": "python",
   "pygments_lexer": "ipython3",
   "version": "3.12.11"
  }
 },
 "nbformat": 4,
 "nbformat_minor": 5
}
