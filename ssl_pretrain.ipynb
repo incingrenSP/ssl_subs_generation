{
 "cells": [
  {
   "cell_type": "code",
   "execution_count": null,
   "id": "3ba53004-d8fb-4113-b27a-3b0133d2587d",
   "metadata": {},
   "outputs": [],
   "source": [
    "from src.requirements import *\n",
    "from src.audio_handler import AudioDataset, collate_padding\n",
    "from src.ssl_model import *"
   ]
  },
  {
   "cell_type": "markdown",
   "id": "9e1200ed-00f5-488d-b689-cb03c6d90d42",
   "metadata": {},
   "source": [
    "## Contrastive loss\n",
    "$$ L_{SSL} = \\sum_i -log \\frac{exp(sin(\\hat z_i, z_i^+)/\\tau)}{\\sum_j exp(sin(\\hat z_i, z_j^-)/\\tau)} $$"
   ]
  },
  {
   "cell_type": "markdown",
   "id": "6ff8b5a7-34c8-427d-961c-5a881c84be63",
   "metadata": {},
   "source": [
    "- B = Batch size\n",
    "- T = Temporal Length\n",
    "- D = Feature dimension\n",
    "\n",
    "## latent_features (z)\n",
    "- Latent features are unique representations of an audio sample in N-dimension (here 512-dimensional vector).\n",
    "- for \"namaskar\" with each letter representing one vector pos z = [z1, z2, z3, z4, z5, z6, z7, z8]\n",
    "- say we have masked_indices of shape = (8, 1) given as mask_indices = [1, 1, 0, 0, 1, 0, 1, 1]\n",
    "- so z_masked = [z1, z2, 0, 0, z5, 0, z7, z8]\n",
    "\n",
    "## context (c)\n",
    "- we now have a masked input which has some missing values. now the model needs to understand the context through z_masked.\n",
    "- context (c) is programmed to understand what z_masked is saying so far.\n",
    "- c tries to understand and contextualize \"na--k-ar\"\n",
    "\n",
    "## predicted queries (q)\n",
    "- we now have latent_features and context of masked_latent_features, now the model needs to predict based on context\n",
    "- the model tries to predict queries (q) to fill the masked indices, say we got q = \"--ma-k--\"\n",
    "\n",
    "## contrastive loss ($L_{SSL}$)\n",
    "- we already have latent_features which is the tokenized audio sample, and now predicted queries.\n",
    "\n",
    "$\\hat z_i$ = q = predicted masked representations <br>\n",
    "$z_i^+$ = not z_masked = whatever values/tokens were masked <br>\n",
    "$z_i^-$ = negative samples = we are intended to give the model multiple wrong choices so that it learns to pick the most appropriate one (there are no correct answers) <br>\n",
    "but, these features (instead of manual intervention) are fed to the formula using a random masked values from $z_k$ as a negative sample"
   ]
  },
  {
   "cell_type": "code",
   "execution_count": null,
   "id": "ff2aa1e2-ffd6-4b64-82bb-d30389abfc0b",
   "metadata": {},
   "outputs": [],
   "source": [
    "# vectorization\n",
    "def contrastive_loss(z, q, mask=None, temperature=0.1):\n",
    "    z = F.normalize(z, dim=-1)\n",
    "    q = F.normalize(q, dim=-1)\n",
    "\n",
    "    z_cpu = z.detach().cpu()\n",
    "    q_cpu = q.detach().cpu()\n",
    "\n",
    "    # batch matrxi-matrix product\n",
    "    sim_cpu = torch.bmm(q_cpu, z_cpu.transpose(1,2)) / temperature\n",
    "    sim = sim_cpu.to(z.device, non_blocking=True)\n",
    "\n",
    "    sim_pos = sim.diagonal(dim1=1, dim2=2)\n",
    "\n",
    "    logsum_exp = torch.logsumexp(sim, dim=-1)\n",
    "    loss = - (sim_pos - logsum_exp)\n",
    "\n",
    "    if mask is not None:\n",
    "        loss = loss * mask.float()\n",
    "\n",
    "    return loss.mean()"
   ]
  },
  {
   "cell_type": "code",
   "execution_count": null,
   "id": "2a0148b7-a20b-486a-9b35-3c0bf2a69604",
   "metadata": {},
   "outputs": [],
   "source": [
    "def contrastive_loss_chunked(z, q, mask=None, temperature=0.1, chunk_size=256):\n",
    "    B, T, D = z.shape\n",
    "    z = F.normalize(z, dim=-1)\n",
    "    q = F.normalize(q, dim=-1)\n",
    "\n",
    "    total_loss = 0.0\n",
    "    total_count = 0\n",
    "\n",
    "    for start in range(0, T, chunk_size):\n",
    "        end = min(start + chunk_size, T)\n",
    "        q_chunk = q[:, start:end, :]  # [B, chunk, D]\n",
    "\n",
    "        # Compute similarity only for this chunk\n",
    "        sim = torch.bmm(q_chunk, z.transpose(1, 2)) / temperature  # [B, chunk, T]\n",
    "        sim_pos = torch.sum(q_chunk * z[:, start:end, :], dim=-1) / temperature  # [B, chunk]\n",
    "        logsum_exp = torch.logsumexp(sim, dim=-1)  # [B, chunk]\n",
    "        loss_chunk = -(sim_pos - logsum_exp)  # [B, chunk]\n",
    "\n",
    "        if mask is not None:\n",
    "            loss_chunk = loss_chunk * mask[:, start:end].float()\n",
    "\n",
    "        total_loss += loss_chunk.sum()\n",
    "        total_count += loss_chunk.numel()\n",
    "\n",
    "        # free intermediate tensor memory\n",
    "        del q_chunk, sim, sim_pos, logsum_exp, loss_chunk\n",
    "        torch.cuda.empty_cache()\n",
    "\n",
    "    return total_loss / total_count"
   ]
  },
  {
   "cell_type": "raw",
   "id": "92812da0-6a4d-4c98-bba4-67a62c20c4fb",
   "metadata": {},
   "source": [
    "def dummy_test():\n",
    "    # Testing if model is working\n",
    "    model.eval()\n",
    "    \n",
    "    batch_size = 16\n",
    "    seq_len = 16000\n",
    "    \n",
    "    dummy_input = torch.randn(batch_size, 1, seq_len).to(device)\n",
    "    z = model.encoder(dummy_input).transpose(1, 2)\n",
    "    B, T_enc, F = z.shape\n",
    "    \n",
    "    mask = compute_mask_indices(B, T_enc, mask_prob=0.065, mask_length=10, device=device)\n",
    "    z_out, q_out, mask_out = model(dummy_input)\n",
    "    \n",
    "    print(\"z_out:\", z_out.shape)\n",
    "    print(\"q_out:\", q_out.shape)"
   ]
  },
  {
   "cell_type": "code",
   "execution_count": null,
   "id": "267a7354-68b8-423f-801b-e37a4b1a6af2",
   "metadata": {},
   "outputs": [],
   "source": [
    "def train(model, train_dl, loss_fn, epochs, optimizer, scaler, scheduler, device):\n",
    "    accum = 16\n",
    "    model.train()\n",
    "    cumulative_loss = []\n",
    "\n",
    "    for epoch in range(epochs):\n",
    "        print(f\"Epoch [{epoch+1}/{epochs}]\")\n",
    "        \n",
    "        for i, batch in enumerate(tqdm(train_dl)):\n",
    "            batch = batch.to(device)\n",
    "            \n",
    "            with torch.autocast(device):\n",
    "                z, q, mask = model(batch)\n",
    "                loss = loss_fn(z, q, mask, chunk_size=128) / accum\n",
    "            scaler.scale(loss).backward()\n",
    "    \n",
    "            if (i+1) % accum == 0:\n",
    "                scaler.step(optimizer)\n",
    "                scaler.update()\n",
    "                optimizer.zero_grad()\n",
    "\n",
    "        scheduler.step()\n",
    "        print(f\"Loss: {loss}\")\n",
    "        cumulative_loss.append(loss)\n",
    "        torch.cuda.empty_cache()\n",
    "\n",
    "    torch.save(model.state_dict(), os.path.join(\"models\", \"ssl_model_prototype.pth\"))\n",
    "    \n",
    "    return cumulative_loss"
   ]
  },
  {
   "cell_type": "code",
   "execution_count": null,
   "id": "219a1228-a8a3-40f3-bd4c-e51910ae74e7",
   "metadata": {},
   "outputs": [],
   "source": [
    "path = os.path.join('data', 'metadata.tsv')\n",
    "batch_size = 2\n",
    "\n",
    "train_dataset = AudioDataset(metadata_path=path)\n",
    "train_dl = DataLoader(\n",
    "    dataset = train_dataset,\n",
    "    batch_size = batch_size,\n",
    "    pin_memory = True,\n",
    "    collate_fn = collate_padding, \n",
    "    shuffle=True\n",
    ")"
   ]
  },
  {
   "cell_type": "code",
   "execution_count": null,
   "id": "c0fa022e-ee71-41b9-bbe9-c7c2c2ffb655",
   "metadata": {},
   "outputs": [],
   "source": [
    "learning_rate = 1e-4\n",
    "device = 'cuda' if torch.cuda.is_available() else 'cpu'\n",
    "\n",
    "model = SSLAutoregressiveModel().to(device)\n",
    "optimizer = torch.optim.Adam(model.parameters(), lr=learning_rate)\n",
    "\n",
    "epochs = 1\n",
    "scaler = torch.GradScaler(device)\n",
    "scheduler = StepLR(optimizer, step_size=1, gamma=0.1)\n",
    "\n",
    "cumulative_loss = train(model, train_dl, contrastive_loss_chunked, epochs, optimizer, scaler, scheduler, device)"
   ]
  },
  {
   "cell_type": "code",
   "execution_count": null,
   "id": "57842287-1538-4637-9f50-0b8ae9bf07af",
   "metadata": {},
   "outputs": [],
   "source": []
  }
 ],
 "metadata": {
  "kernelspec": {
   "display_name": "ml",
   "language": "python",
   "name": "ml"
  },
  "language_info": {
   "codemirror_mode": {
    "name": "ipython",
    "version": 3
   },
   "file_extension": ".py",
   "mimetype": "text/x-python",
   "name": "python",
   "nbconvert_exporter": "python",
   "pygments_lexer": "ipython3",
   "version": "3.12.7"
  }
 },
 "nbformat": 4,
 "nbformat_minor": 5
}
