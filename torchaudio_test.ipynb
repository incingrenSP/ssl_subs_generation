{
 "cells": [
  {
   "cell_type": "code",
   "execution_count": null,
   "id": "54e792fa-4e84-4f81-80b8-e639286d5c50",
   "metadata": {},
   "outputs": [],
   "source": [
    "import os\n",
    "import librosa\n",
    "import librosa.display\n",
    "import numpy as np\n",
    "import matplotlib.pyplot as plt\n",
    "\n",
    "data_path = 'test.wav'\n",
    "data_dir = []"
   ]
  },
  {
   "cell_type": "code",
   "execution_count": null,
   "id": "24aa7d9f-6ac7-4316-a45b-c0c26b5a0297",
   "metadata": {},
   "outputs": [],
   "source": [
    "# Librosa\n",
    "\n",
    "y, sr = librosa.load(data_path, sr=None)  # Keep original sampling rate\n",
    "\n",
    "plt.figure(figsize=(14, 5))\n",
    "librosa.display.waveshow(y, sr=sr)\n",
    "plt.title(f\"Waveform of {os.path.basename(data_path)}\")\n",
    "plt.xlabel(\"Time (s)\")\n",
    "plt.ylabel(\"Amplitude\")\n",
    "plt.show()"
   ]
  },
  {
   "cell_type": "code",
   "execution_count": null,
   "id": "da956ead-7296-4867-82c8-1b5f2808e61d",
   "metadata": {},
   "outputs": [],
   "source": [
    "import torch\n",
    "import torchaudio\n",
    "import soundfile\n",
    "\n",
    "# torchaudio\n",
    "\n",
    "waveform_orig, sr = torchaudio.load(data_path) # Keep original sampling rate\n",
    "waveform_mono = torch.mean(waveform_orig, dim=0).unsqueeze(0)\n",
    "waveform_orig = waveform_mono\n",
    "\n",
    "waveform_orig = waveform_orig / waveform_orig.abs().max()\n",
    "\n",
    "print(waveform_orig.shape, sr)\n",
    "waveform = waveform_orig[0].numpy()  # select first channel\n",
    "plt.figure(figsize=(14, 5))\n",
    "plt.title(f\"Waveform of {os.path.basename(data_path)}\")\n",
    "plt.xlabel(\"Time (s)\")\n",
    "plt.ylabel(\"Amplitude\")\n",
    "plt.plot(waveform)\n",
    "plt.show()\n"
   ]
  },
  {
   "cell_type": "code",
   "execution_count": null,
   "id": "230a1c80-ffea-44f9-8d50-8516409abaa3",
   "metadata": {},
   "outputs": [],
   "source": [
    "new_sr = 16000\n",
    "resampler = torchaudio.transforms.Resample(orig_freq=sr, new_freq=new_sr)\n",
    "waveform_res = resampler(waveform_orig)\n",
    "print(waveform_res.shape, new_sr)\n",
    "\n",
    "waveform = waveform_res[0].numpy()  # select first channel\n",
    "plt.figure(figsize=(14, 5))\n",
    "plt.title(f\"Waveform of {os.path.basename(data_path)}\")\n",
    "plt.xlabel(\"Time (s)\")\n",
    "plt.ylabel(\"Amplitude\")\n",
    "plt.plot(waveform)\n",
    "plt.show()"
   ]
  },
  {
   "cell_type": "code",
   "execution_count": null,
   "id": "7b08211b-0a1e-4a66-bd6f-797cda8eceec",
   "metadata": {},
   "outputs": [],
   "source": []
  }
 ],
 "metadata": {
  "kernelspec": {
   "display_name": "ml",
   "language": "python",
   "name": "ml"
  },
  "language_info": {
   "codemirror_mode": {
    "name": "ipython",
    "version": 3
   },
   "file_extension": ".py",
   "mimetype": "text/x-python",
   "name": "python",
   "nbconvert_exporter": "python",
   "pygments_lexer": "ipython3",
   "version": "3.12.7"
  }
 },
 "nbformat": 4,
 "nbformat_minor": 5
}
