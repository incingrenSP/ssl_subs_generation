{
 "cells": [
  {
   "cell_type": "code",
   "execution_count": null,
   "id": "64286a5b-de84-4f01-9ded-722bef3c6864",
   "metadata": {},
   "outputs": [],
   "source": [
    "from src.requirements import *"
   ]
  },
  {
   "cell_type": "markdown",
   "id": "829a7e97-6753-4b5f-b84d-00c411b4a034",
   "metadata": {},
   "source": [
    "## Audio Preprocessing\n",
    "- resample\n",
    "- stereo to mono\n",
    "- normalize\n",
    "- plot"
   ]
  },
  {
   "cell_type": "code",
   "execution_count": null,
   "id": "1550771e-0ee2-4d6a-9d87-24b558899354",
   "metadata": {},
   "outputs": [],
   "source": [
    "class AudioDataset(Dataset):\n",
    "    def __init__(self, audio_path, device='cpu', target_sr=16000):\n",
    "        self.audio_path = audio_path\n",
    "        self.device = device\n",
    "        self.target_sr = target_sr\n",
    "        self.data = []\n",
    "        self.load_data()\n",
    "        \n",
    "    def load_data(self):\n",
    "        for dir1 in os.listdir(self.audio_path):\n",
    "            for dir2 in tqdm(os.listdir(os.path.join(self.audio_path, dir1))):\n",
    "                if os.path.splitext(dir2)[1] == '.tsv':\n",
    "                    continue\n",
    "                waveform, sr = torchaudio.load(os.path.join(self.audio_path, dir1, dir2))\n",
    "                waveform, sr = self.audio_preprocess(waveform, sr, self.target_sr)\n",
    "                self.data.append([waveform, sr])\n",
    "\n",
    "    def audio_preprocess(self, waveform, sr, target_sr):\n",
    "        # resample\n",
    "        resampler = T.Resample(orig_freq=sr, new_freq=target_sr)\n",
    "        waveform = resampler(waveform)\n",
    "    \n",
    "        # stereo -> mono\n",
    "        waveform_mono = torch.mean(waveform, dim=0, keepdim=True)\n",
    "        waveform = waveform_mono\n",
    "    \n",
    "        # normalize\n",
    "        waveform = waveform / waveform.abs().max()\n",
    "    \n",
    "        return waveform, target_sr\n",
    "\n",
    "    def __len__(self):\n",
    "        return len(self.data)\n",
    "\n",
    "    def __getitem__(self, idx):\n",
    "        return self.data[idx]"
   ]
  },
  {
   "cell_type": "code",
   "execution_count": null,
   "id": "ed0918db-4b16-437b-8efc-a4f1efbc8253",
   "metadata": {},
   "outputs": [],
   "source": [
    "audio_path = 'data'\n",
    "data = AudioDataset(audio_path, target_sr=16000)\n",
    "len(data)"
   ]
  },
  {
   "cell_type": "code",
   "execution_count": null,
   "id": "65700966-bb7c-4aa8-91d6-452d00800696",
   "metadata": {},
   "outputs": [],
   "source": [
    "train_data = DataLoader(dataset=data, batch_size=8, shuffle=True)"
   ]
  },
  {
   "cell_type": "code",
   "execution_count": null,
   "id": "e7c28aa0-891a-4813-adc4-3fb5937f6bf6",
   "metadata": {},
   "outputs": [],
   "source": []
  }
 ],
 "metadata": {
  "kernelspec": {
   "display_name": "ml",
   "language": "python",
   "name": "ml"
  },
  "language_info": {
   "codemirror_mode": {
    "name": "ipython",
    "version": 3
   },
   "file_extension": ".py",
   "mimetype": "text/x-python",
   "name": "python",
   "nbconvert_exporter": "python",
   "pygments_lexer": "ipython3",
   "version": "3.12.11"
  }
 },
 "nbformat": 4,
 "nbformat_minor": 5
}
