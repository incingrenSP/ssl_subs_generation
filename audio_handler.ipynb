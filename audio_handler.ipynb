{
 "cells": [
  {
   "cell_type": "code",
   "execution_count": 1,
   "id": "64286a5b-de84-4f01-9ded-722bef3c6864",
   "metadata": {},
   "outputs": [],
   "source": [
    "from src.requirements import *"
   ]
  },
  {
   "cell_type": "markdown",
   "id": "829a7e97-6753-4b5f-b84d-00c411b4a034",
   "metadata": {},
   "source": [
    "## Audio Preprocessing\n",
    "- resample\n",
    "- stereo to mono\n",
    "- normalize\n",
    "- plot"
   ]
  },
  {
   "cell_type": "raw",
   "id": "f32ee27c-4762-47d3-a387-81f667a2a4de",
   "metadata": {},
   "source": [
    "class AudioDataset(Dataset):\n",
    "    def __init__(self, audio_path, device='cpu', target_sr=16000):\n",
    "        self.audio_path = audio_path\n",
    "        self.device = device\n",
    "        self.target_sr = target_sr\n",
    "        self.data = []\n",
    "        self.load_data()\n",
    "        \n",
    "    def load_data(self):\n",
    "        for dir1 in os.listdir(self.audio_path):\n",
    "            if os.path.splitext(dir1)[1] == '.tsv':\n",
    "                continue\n",
    "            for dir2 in tqdm(os.listdir(os.path.join(self.audio_path, dir1))):\n",
    "                if os.path.splitext(dir2)[1] == '.tsv':\n",
    "                    continue\n",
    "                waveform, sr = torchaudio.load(os.path.join(self.audio_path, dir1, dir2))\n",
    "                waveform, sr = self.audio_preprocess(waveform, sr, self.target_sr)\n",
    "                self.data.append(waveform.squeeze(0))\n",
    "\n",
    "    def audio_preprocess(self, waveform, sr, target_sr):\n",
    "        # resample\n",
    "        resampler = T.Resample(orig_freq=sr, new_freq=target_sr)\n",
    "        waveform = resampler(waveform)\n",
    "    \n",
    "        # stereo -> mono\n",
    "        waveform_mono = torch.mean(waveform, dim=0, keepdim=True)\n",
    "        waveform = waveform_mono\n",
    "    \n",
    "        # normalize\n",
    "        waveform = waveform / waveform.abs().max()\n",
    "    \n",
    "        return waveform, target_sr"
   ]
  },
  {
   "cell_type": "code",
   "execution_count": 2,
   "id": "1550771e-0ee2-4d6a-9d87-24b558899354",
   "metadata": {},
   "outputs": [],
   "source": [
    "class AudioDataset(Dataset):\n",
    "    def __init__(self, audio_path, target_sr=16000, transform=None):\n",
    "        self.audio_path = audio_path\n",
    "        self.target_sr = target_sr\n",
    "        self.transform = transform\n",
    "        self.file_list = []\n",
    "        self._gather_files()\n",
    "\n",
    "    def _gather_files(self):\n",
    "        for dir1 in os.listdir(self.audio_path):\n",
    "            if dir1.endswith('.tsv'):\n",
    "                continue\n",
    "            subdir = os.path.join(self.audio_path, dir1)\n",
    "            for dir2 in tqdm(os.listdir(subdir)):\n",
    "                if dir2.endswith('.tsv'):\n",
    "                    continue\n",
    "                path = os.path.join(subdir, dir2)\n",
    "                self.file_list.append(path)\n",
    "\n",
    "    def __len__(self):\n",
    "        return len(self.file_list)\n",
    "\n",
    "    def __getitem__(self, idx):\n",
    "        path = self.file_list[idx]\n",
    "        waveform, sr = sf.read(path, always_2d=True)\n",
    "        waveform = torch.Tensor(waveform.T)\n",
    "\n",
    "        if sr != self.target_sr:\n",
    "            resampler = T.Resampler(orig_freq=sr, new_freq=self.target_sr)\n",
    "            waveform = resampler(waveform)\n",
    "\n",
    "        if waveform.shape[0] > 1:\n",
    "            waveform = torch.mean(waveform, dim=0, keepdim=True)\n",
    "\n",
    "        waveform = waveform / (waveform.abs().max() + 1e-8)\n",
    "\n",
    "        if self.transform:\n",
    "            waveform = self.transform(waveform)\n",
    "\n",
    "        return waveform.squeeze(0)"
   ]
  },
  {
   "cell_type": "code",
   "execution_count": 3,
   "id": "ed0918db-4b16-437b-8efc-a4f1efbc8253",
   "metadata": {
    "scrolled": true
   },
   "outputs": [
    {
     "name": "stderr",
     "output_type": "stream",
     "text": [
      "100%|████████████████████████████████████████████████████████████████████████████| 607/607 [00:00<00:00, 602019.99it/s]\n",
      "100%|████████████████████████████████████████████████████████████████████████████████████████| 642/642 [00:00<?, ?it/s]\n",
      "100%|████████████████████████████████████████████████████████████████████████████| 593/593 [00:00<00:00, 340295.84it/s]\n",
      "100%|████████████████████████████████████████████████████████████████████████████████████████| 652/652 [00:00<?, ?it/s]\n",
      "100%|█████████████████████████████████████████████████████████████████████████████| 614/614 [00:00<00:00, 38947.15it/s]\n",
      "100%|████████████████████████████████████████████████████████████████████████████████████████| 625/625 [00:00<?, ?it/s]\n",
      "100%|████████████████████████████████████████████████████████████████████████████| 599/599 [00:00<00:00, 100814.10it/s]\n",
      "100%|████████████████████████████████████████████████████████████████████████████| 624/624 [00:00<00:00, 311243.39it/s]\n",
      "100%|████████████████████████████████████████████████████████████████████████████████████████| 640/640 [00:00<?, ?it/s]\n",
      "100%|████████████████████████████████████████████████████████████████████████████████████████| 623/623 [00:00<?, ?it/s]\n",
      "100%|████████████████████████████████████████████████████████████████████████████████████████| 621/621 [00:00<?, ?it/s]\n",
      "100%|████████████████████████████████████████████████████████████████████████████████████████| 615/615 [00:00<?, ?it/s]\n",
      "100%|████████████████████████████████████████████████████████████████████████████████████████| 613/613 [00:00<?, ?it/s]\n",
      "100%|████████████████████████████████████████████████████████████████████████████| 606/606 [00:00<00:00, 301691.18it/s]\n",
      "100%|████████████████████████████████████████████████████████████████████████████████████████| 643/643 [00:00<?, ?it/s]\n",
      "100%|█████████████████████████████████████████████████████████████████████████████| 618/618 [00:00<00:00, 56078.92it/s]\n"
     ]
    }
   ],
   "source": [
    "audio_path = 'data'\n",
    "data = AudioDataset(audio_path, target_sr=16000)"
   ]
  },
  {
   "cell_type": "code",
   "execution_count": 4,
   "id": "b5fd05cc-4a7f-426e-a8c3-0ac84729ff00",
   "metadata": {},
   "outputs": [],
   "source": [
    "def collate_padding(batch):\n",
    "    batch = rnn_utils.pad_sequence(batch, batch_first=True, padding_value=0)\n",
    "    batch = batch.unsqueeze(1)\n",
    "    return batch"
   ]
  },
  {
   "cell_type": "code",
   "execution_count": 5,
   "id": "65700966-bb7c-4aa8-91d6-452d00800696",
   "metadata": {},
   "outputs": [],
   "source": [
    "train_data = DataLoader(dataset=data, batch_size=16, collate_fn=collate_padding)"
   ]
  },
  {
   "cell_type": "code",
   "execution_count": 6,
   "id": "e7c28aa0-891a-4813-adc4-3fb5937f6bf6",
   "metadata": {},
   "outputs": [
    {
     "name": "stdout",
     "output_type": "stream",
     "text": [
      "torch.Size([16, 1, 99200])\n",
      "<class 'torch.Tensor'>\n",
      "torch.Size([1, 99200])\n"
     ]
    }
   ],
   "source": [
    "for batch in train_data:\n",
    "    print(batch.shape)\n",
    "    print(type(batch))\n",
    "    for item in batch:\n",
    "        print(item.shape)\n",
    "        break\n",
    "    break"
   ]
  },
  {
   "cell_type": "code",
   "execution_count": null,
   "id": "756e0874-0b2f-42a2-be53-c36562374d0a",
   "metadata": {},
   "outputs": [],
   "source": []
  }
 ],
 "metadata": {
  "kernelspec": {
   "display_name": "ml",
   "language": "python",
   "name": "ml"
  },
  "language_info": {
   "codemirror_mode": {
    "name": "ipython",
    "version": 3
   },
   "file_extension": ".py",
   "mimetype": "text/x-python",
   "name": "python",
   "nbconvert_exporter": "python",
   "pygments_lexer": "ipython3",
   "version": "3.12.7"
  }
 },
 "nbformat": 4,
 "nbformat_minor": 5
}
