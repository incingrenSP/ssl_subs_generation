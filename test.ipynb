{
 "cells": [
  {
   "cell_type": "code",
   "execution_count": 1,
   "id": "71c5552b-fb3f-420f-9229-4a40f6da3cf2",
   "metadata": {},
   "outputs": [],
   "source": [
    "from src.requirements import *"
   ]
  },
  {
   "cell_type": "code",
   "execution_count": null,
   "id": "bd66b704-04b5-4f39-a752-d9e29eabc738",
   "metadata": {},
   "outputs": [],
   "source": [
    "def collate_padding(batch):\n",
    "    return rnn_utils.pad_sequence(batch, batch_first=True, padding_value=0)"
   ]
  },
  {
   "cell_type": "code",
   "execution_count": null,
   "id": "451339f8-7217-4527-a59f-38c63a673a44",
   "metadata": {},
   "outputs": [],
   "source": [
    "data = [torch.tensor([1,2]), torch.tensor([3,4,5,6,7,8,9]), torch.tensor([6])]\n",
    "dataloader = DataLoader(data, batch_size=3, collate_fn=collate_padding)"
   ]
  },
  {
   "cell_type": "code",
   "execution_count": null,
   "id": "176355fa-8351-4fef-b2af-c13ee7e923e5",
   "metadata": {},
   "outputs": [],
   "source": [
    "for batch in dataloader:\n",
    "    print(batch)"
   ]
  },
  {
   "cell_type": "code",
   "execution_count": 4,
   "id": "6e9cbccc-bcc9-44be-8202-6b2aa168c90a",
   "metadata": {
    "scrolled": true
   },
   "outputs": [
    {
     "data": {
      "text/plain": [
       "tensor([[ 0.2038, -0.3411,  1.3240,  2.4554,  0.9712, -0.7575,  0.3378, -0.6811,\n",
       "          1.6843, -1.2972],\n",
       "        [ 1.1451,  1.4667,  0.4219, -1.4867,  1.9243,  0.5414,  0.7109, -0.3683,\n",
       "          0.2644, -1.5856],\n",
       "        [-0.4536, -0.9458, -0.9486,  0.2513,  0.8617, -0.2937,  0.2850, -1.6226,\n",
       "          0.0208,  2.2829],\n",
       "        [ 1.1768,  0.6962,  0.7399,  0.1068, -0.5827,  0.1715, -0.0469,  0.7773,\n",
       "         -0.1537,  0.2645],\n",
       "        [-0.0663,  0.4869,  0.2739, -1.4928, -2.2394,  0.0294,  0.7866,  0.0166,\n",
       "         -2.1113, -1.1183],\n",
       "        [-0.5473,  0.2525,  1.8703, -1.6365, -1.0391, -0.9974,  2.3577,  0.7151,\n",
       "          0.0063, -1.3196],\n",
       "        [ 0.5124, -0.9498,  0.3696, -1.6469,  0.3281,  1.1025,  0.5407, -1.0411,\n",
       "          2.0084,  0.7621],\n",
       "        [ 0.9851, -0.6033,  0.4891,  1.5071, -0.9564,  0.9629,  0.0259,  0.7140,\n",
       "         -2.1237,  0.6357],\n",
       "        [-0.1728, -0.3488,  2.3962,  0.9643, -0.5325, -0.9775, -0.9039, -0.9646,\n",
       "         -0.6997, -0.4547],\n",
       "        [-0.6285,  1.1594, -0.1292, -0.9110,  0.0541, -0.3870, -0.1047,  1.6763,\n",
       "         -0.8282,  1.3706],\n",
       "        [ 1.4809,  0.1665, -0.6436, -2.2326, -1.2338, -1.2575,  0.0303, -2.3340,\n",
       "          0.3190,  0.8576],\n",
       "        [ 0.4826, -0.8015, -0.7047, -1.6219,  0.3087,  0.4384, -0.3058, -0.7771,\n",
       "         -1.3542,  0.4232],\n",
       "        [ 0.3869, -1.7012,  0.3114,  1.9576,  1.2518,  1.1271,  1.1244, -1.5344,\n",
       "          1.6377, -0.8593],\n",
       "        [ 0.8356,  0.6296,  0.8165, -1.0143, -1.5898, -1.5513, -0.2022,  0.3058,\n",
       "         -0.7572, -0.8225],\n",
       "        [-1.5675,  0.6994, -0.7515, -0.3187, -0.1865, -0.7711, -1.7626, -0.8786,\n",
       "          0.2981, -1.8468],\n",
       "        [ 0.6250, -1.2983,  0.8075,  0.1196,  0.7161,  0.0366, -0.3254, -0.4008,\n",
       "          0.4058,  1.1525]])"
      ]
     },
     "execution_count": 4,
     "metadata": {},
     "output_type": "execute_result"
    }
   ],
   "source": [
    "x = torch.randn(16,10)\n",
    "x"
   ]
  },
  {
   "cell_type": "code",
   "execution_count": 3,
   "id": "2a9e13c6-7fc4-4a8d-a15c-adf6a41b5c03",
   "metadata": {},
   "outputs": [
    {
     "data": {
      "text/plain": [
       "torch.Size([3, 2])"
      ]
     },
     "execution_count": 3,
     "metadata": {},
     "output_type": "execute_result"
    }
   ],
   "source": [
    "x.shape"
   ]
  },
  {
   "cell_type": "code",
   "execution_count": null,
   "id": "21c79bf4-5a74-47e8-be69-f8354a62c8be",
   "metadata": {},
   "outputs": [],
   "source": []
  }
 ],
 "metadata": {
  "kernelspec": {
   "display_name": "ml",
   "language": "python",
   "name": "ml"
  },
  "language_info": {
   "codemirror_mode": {
    "name": "ipython",
    "version": 3
   },
   "file_extension": ".py",
   "mimetype": "text/x-python",
   "name": "python",
   "nbconvert_exporter": "python",
   "pygments_lexer": "ipython3",
   "version": "3.12.11"
  }
 },
 "nbformat": 4,
 "nbformat_minor": 5
}
