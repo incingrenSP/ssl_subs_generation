{
 "cells": [
  {
   "cell_type": "code",
   "execution_count": 1,
   "id": "71c5552b-fb3f-420f-9229-4a40f6da3cf2",
   "metadata": {},
   "outputs": [],
   "source": [
    "from src.requirements import *"
   ]
  },
  {
   "cell_type": "code",
   "execution_count": null,
   "id": "21c79bf4-5a74-47e8-be69-f8354a62c8be",
   "metadata": {},
   "outputs": [],
   "source": [
    "audio_path = \"data\"\n",
    "file_list = dict()\n",
    "\n",
    "for dir1 in os.listdir(audio_path):\n",
    "    if os.path.splitext(dir1)[1] == '.tsv':\n",
    "        continue\n",
    "    subdir = os.path.join(audio_path, dir1)\n",
    "    for dir2 in tqdm(os.listdir(subdir)):\n",
    "        if os.path.splitext(dir2)[1] == '.tsv':\n",
    "            continue\n",
    "        path = os.path.join(subdir, dir2)\n",
    "        waveform, sr = sf.read(path, always_2d=True)\n",
    "        file_list[path] = sr"
   ]
  },
  {
   "cell_type": "code",
   "execution_count": null,
   "id": "bf2b55b8-08bd-4de6-b665-9c461398e5b5",
   "metadata": {
    "scrolled": true
   },
   "outputs": [],
   "source": [
    "max(file_list.values())"
   ]
  },
  {
   "cell_type": "code",
   "execution_count": 2,
   "id": "70abf1c5-b7db-4d3e-a1c9-79875331f470",
   "metadata": {},
   "outputs": [],
   "source": [
    "from src.audio_handler import *"
   ]
  },
  {
   "cell_type": "code",
   "execution_count": 6,
   "id": "c07b28a2-7942-440d-80a9-977c8042a93a",
   "metadata": {},
   "outputs": [
    {
     "name": "stderr",
     "output_type": "stream",
     "text": [
      "100%|████████████████████████████████████████████████████████████████████████████| 607/607 [00:00<00:00, 302728.01it/s]\n",
      "100%|████████████████████████████████████████████████████████████████████████████████████████| 642/642 [00:00<?, ?it/s]\n",
      "100%|████████████████████████████████████████████████████████████████████████████████████████| 593/593 [00:00<?, ?it/s]\n",
      "100%|████████████████████████████████████████████████████████████████████████████████████████| 652/652 [00:00<?, ?it/s]\n",
      "100%|████████████████████████████████████████████████████████████████████████████| 614/614 [00:00<00:00, 170493.39it/s]\n",
      "100%|████████████████████████████████████████████████████████████████████████████| 625/625 [00:00<00:00, 132590.16it/s]\n",
      "100%|████████████████████████████████████████████████████████████████████████████████████████| 599/599 [00:00<?, ?it/s]\n",
      "100%|████████████████████████████████████████████████████████████████████████████████████████| 624/624 [00:00<?, ?it/s]\n",
      "100%|████████████████████████████████████████████████████████████████████████████████████████| 640/640 [00:00<?, ?it/s]\n",
      "100%|████████████████████████████████████████████████████████████████████████████| 623/623 [00:00<00:00, 310781.56it/s]\n",
      "100%|████████████████████████████████████████████████████████████████████████████████████████| 621/621 [00:00<?, ?it/s]\n",
      "100%|█████████████████████████████████████████████████████████████████████████████| 615/615 [00:00<00:00, 98053.63it/s]\n",
      "100%|████████████████████████████████████████████████████████████████████████████████████████| 613/613 [00:00<?, ?it/s]\n",
      "100%|█████████████████████████████████████████████████████████████████████████████| 606/606 [00:00<00:00, 56554.93it/s]\n",
      "100%|████████████████████████████████████████████████████████████████████████████████████████| 643/643 [00:00<?, ?it/s]\n",
      "100%|█████████████████████████████████████████████████████████████████████████████| 618/618 [00:00<00:00, 53564.22it/s]\n"
     ]
    }
   ],
   "source": [
    "train_dataset = AudioDataset(audio_path=\"data\")\n",
    "train_dl = DataLoader(\n",
    "    dataset = train_dataset,\n",
    "    batch_size = 8,\n",
    "    pin_memory = True,\n",
    "    # collate_fn = collate_padding, \n",
    "    shuffle=True\n",
    ")"
   ]
  },
  {
   "cell_type": "code",
   "execution_count": null,
   "id": "ed7bc4aa-270e-424c-9c8e-c1c1d42de2c1",
   "metadata": {},
   "outputs": [],
   "source": []
  }
 ],
 "metadata": {
  "kernelspec": {
   "display_name": "ml",
   "language": "python",
   "name": "ml"
  },
  "language_info": {
   "codemirror_mode": {
    "name": "ipython",
    "version": 3
   },
   "file_extension": ".py",
   "mimetype": "text/x-python",
   "name": "python",
   "nbconvert_exporter": "python",
   "pygments_lexer": "ipython3",
   "version": "3.12.7"
  }
 },
 "nbformat": 4,
 "nbformat_minor": 5
}
