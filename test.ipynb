{
 "cells": [
  {
   "cell_type": "code",
   "execution_count": 1,
   "id": "71c5552b-fb3f-420f-9229-4a40f6da3cf2",
   "metadata": {},
   "outputs": [],
   "source": [
    "from src.requirements import *"
   ]
  },
  {
   "cell_type": "code",
   "execution_count": 2,
   "id": "21c79bf4-5a74-47e8-be69-f8354a62c8be",
   "metadata": {},
   "outputs": [
    {
     "name": "stdout",
     "output_type": "stream",
     "text": [
      "0000c0f43b.flac\n",
      "01004f89c9.flac\n",
      "0200157b71.flac\n",
      "03003baa6d.flac\n",
      "040037b3c3.flac\n",
      "050010e6b4.flac\n",
      "06005c99cf.flac\n",
      "0700709338.flac\n",
      "08012c6946.flac\n",
      "0900921041.flac\n",
      "0a005fa4b2.flac\n",
      "0b0058ee7d.flac\n",
      "0c004c4e0a.flac\n",
      "0d003519bb.flac\n",
      "0e0042883a.flac\n",
      "0f000b84a1.flac\n"
     ]
    }
   ],
   "source": [
    "audio_path = \"data\"\n",
    "\n",
    "for dir1 in os.listdir(audio_path):\n",
    "    if os.path.splitext(dir1)[1] == '.tsv':\n",
    "        continue\n",
    "    for dir2 in os.listdir(os.path.join(audio_path, dir1)):\n",
    "        if os.path.splitext(dir2)[1] == '.tsv':\n",
    "            continue\n",
    "        print(dir2)\n",
    "        break"
   ]
  },
  {
   "cell_type": "code",
   "execution_count": null,
   "id": "9c5b5372-3b2f-4e6b-8f5d-318bb57b200d",
   "metadata": {},
   "outputs": [],
   "source": []
  }
 ],
 "metadata": {
  "kernelspec": {
   "display_name": "ml",
   "language": "python",
   "name": "ml"
  },
  "language_info": {
   "codemirror_mode": {
    "name": "ipython",
    "version": 3
   },
   "file_extension": ".py",
   "mimetype": "text/x-python",
   "name": "python",
   "nbconvert_exporter": "python",
   "pygments_lexer": "ipython3",
   "version": "3.12.11"
  }
 },
 "nbformat": 4,
 "nbformat_minor": 5
}
